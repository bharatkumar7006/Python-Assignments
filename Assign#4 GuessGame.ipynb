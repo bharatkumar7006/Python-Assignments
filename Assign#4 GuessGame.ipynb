{
 "cells": [
  {
   "cell_type": "code",
   "execution_count": null,
   "metadata": {},
   "outputs": [
    {
     "name": "stdout",
     "output_type": "stream",
     "text": [
      "Guess A Number:1\n",
      "Your number is less\n",
      "Nope. The number I was thinking of was 15\n",
      "Guess A Number:2\n",
      "Your number is less\n",
      "Nope. The number I was thinking of was 15\n",
      "Guess A Number:3\n",
      "Your number is less\n",
      "Nope. The number I was thinking of was 15\n"
     ]
    }
   ],
   "source": [
    "import random\n",
    "\n",
    "counter=0\n",
    "number=random.randint(1,30)\n",
    "while counter<4:\n",
    "    guess=input(\"Guess A Number:\")\n",
    "    guesss=int(guess)\n",
    "    counter+=1\n",
    "    if(guesss > number):\n",
    "        print(\"Your number is greater\")\n",
    "    elif(guesss<number):\n",
    "        print(\"Your number is less\")\n",
    "    elif (guesss == number):\n",
    "         print(\"Very Good\")\n",
    "         break\n",
    "    \n",
    "    if (guesss != number):\n",
    "        print('Nope. The number I was thinking of was', number)"
   ]
  },
  {
   "cell_type": "code",
   "execution_count": null,
   "metadata": {},
   "outputs": [],
   "source": []
  }
 ],
 "metadata": {
  "kernelspec": {
   "display_name": "Python 3",
   "language": "python",
   "name": "python3"
  },
  "language_info": {
   "codemirror_mode": {
    "name": "ipython",
    "version": 3
   },
   "file_extension": ".py",
   "mimetype": "text/x-python",
   "name": "python",
   "nbconvert_exporter": "python",
   "pygments_lexer": "ipython3",
   "version": "3.7.3"
  }
 },
 "nbformat": 4,
 "nbformat_minor": 2
}
