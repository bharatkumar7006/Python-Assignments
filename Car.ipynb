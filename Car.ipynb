{
 "cells": [
  {
   "cell_type": "code",
   "execution_count": 29,
   "metadata": {},
   "outputs": [
    {
     "name": "stdout",
     "output_type": "stream",
     "text": [
      "Alto 2000 White Alto E5-786\n",
      "Cultus 2001 White Cultus E6-787\n",
      "City 2002 White City E6-788\n",
      "\n",
      "\n",
      "Alto 2000 Black Alto E5-783\n",
      "Cultus 2001 White Cultus E6-737\n",
      "City 2002 White City E6-781\n",
      "\n",
      "\n",
      "Alto 2000 Gray Alto F5-783\n",
      "Cultus 2001 White Cultus g6-737\n",
      "City 2002 White City s6-781\n",
      "\n",
      "\n",
      "Alto 2000 Red Alto A5-783\n",
      "Cultus 2001 Red Cultus B6-737\n",
      "City 2002 Red City C6-781\n",
      "\n",
      "\n",
      "Alto 2000 Blue Alto z5-783\n",
      "Cultus 2001 Blue Cultus q6-737\n",
      "City 2002 Blue City w6-781\n",
      "\n",
      "\n"
     ]
    }
   ],
   "source": [
    "class Car:\n",
    "        def method1(self,name,model,color,company,plat_no):\n",
    "            print(name,model,color,company,plat_no)\n",
    "        def method2(self,name,model,color,company,plat_no):\n",
    "            print(name,model,color,company,plat_no)\n",
    "        def method3(self,name,model,color,company,plat_no):\n",
    "            print(name,model,color,company,plat_no)\n",
    "c1=Car()\n",
    "c1.method1(\"Alto\",\"2000\",\"White\",\"Alto\",\"E5-786\")\n",
    "c1.method2(\"Cultus\",\"2001\",\"White\",\"Cultus\",\"E6-787\")\n",
    "c1.method3(\"City\",\"2002\",\"White\",\"City\",\"E6-788\")\n",
    "print(\"\\n\")\n",
    "c2=Car()\n",
    "c2.method1(\"Alto\",\"2000\",\"Black\",\"Alto\",\"E5-783\")\n",
    "c2.method2(\"Cultus\",\"2001\",\"White\",\"Cultus\",\"E6-737\")\n",
    "c2.method3(\"City\",\"2002\",\"White\",\"City\",\"E6-781\")\n",
    "print(\"\\n\")\n",
    "c3=Car()\n",
    "c3.method1(\"Alto\",\"2000\",\"Gray\",\"Alto\",\"F5-783\")\n",
    "c3.method2(\"Cultus\",\"2001\",\"White\",\"Cultus\",\"g6-737\")\n",
    "c3.method3(\"City\",\"2002\",\"White\",\"City\",\"s6-781\")\n",
    "print(\"\\n\")\n",
    "c4=Car()\n",
    "c4.method1(\"Alto\",\"2000\",\"Red\",\"Alto\",\"A5-783\")\n",
    "c4.method2(\"Cultus\",\"2001\",\"Red\",\"Cultus\",\"B6-737\")\n",
    "c4.method3(\"City\",\"2002\",\"Red\",\"City\",\"C6-781\")\n",
    "print(\"\\n\")\n",
    "c5=Car()\n",
    "c5.method1(\"Alto\",\"2000\",\"Blue\",\"Alto\",\"z5-783\")\n",
    "c5.method2(\"Cultus\",\"2001\",\"Blue\",\"Cultus\",\"q6-737\")\n",
    "c5.method3(\"City\",\"2002\",\"Blue\",\"City\",\"w6-781\")\n",
    "print(\"\\n\")\n"
   ]
  },
  {
   "cell_type": "code",
   "execution_count": null,
   "metadata": {},
   "outputs": [],
   "source": []
  },
  {
   "cell_type": "code",
   "execution_count": null,
   "metadata": {},
   "outputs": [],
   "source": []
  }
 ],
 "metadata": {
  "kernelspec": {
   "display_name": "Python 3",
   "language": "python",
   "name": "python3"
  },
  "language_info": {
   "codemirror_mode": {
    "name": "ipython",
    "version": 3
   },
   "file_extension": ".py",
   "mimetype": "text/x-python",
   "name": "python",
   "nbconvert_exporter": "python",
   "pygments_lexer": "ipython3",
   "version": "3.7.3"
  }
 },
 "nbformat": 4,
 "nbformat_minor": 2
}
