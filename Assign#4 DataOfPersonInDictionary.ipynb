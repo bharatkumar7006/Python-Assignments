{
 "cells": [
  {
   "cell_type": "code",
   "execution_count": 1,
   "metadata": {},
   "outputs": [
    {
     "name": "stdout",
     "output_type": "stream",
     "text": [
      "{'First_name': 'Abdul', 'Last_name': 'Rafay', 'Age': '20', 'City': 'Tando-Allanyar'}\n"
     ]
    }
   ],
   "source": [
    "d={\"First_name\":\"Abdul\",\"Last_name\":\"Rafay\",\"Age\":\"20\",\"City\":\"Tando-Allanyar\"}\n",
    "print (d);"
   ]
  },
  {
   "cell_type": "code",
   "execution_count": 2,
   "metadata": {},
   "outputs": [],
   "source": [
    "d.update({\"Qualification\":\"Intermediate\"});"
   ]
  },
  {
   "cell_type": "code",
   "execution_count": 3,
   "metadata": {},
   "outputs": [
    {
     "name": "stdout",
     "output_type": "stream",
     "text": [
      "{'First_name': 'Abdul', 'Last_name': 'Rafay', 'Age': '20', 'City': 'Tando-Allanyar', 'Qualification': 'Intermediate'}\n"
     ]
    }
   ],
   "source": [
    "print(d);"
   ]
  },
  {
   "cell_type": "code",
   "execution_count": 4,
   "metadata": {},
   "outputs": [],
   "source": [
    "d.update({\"Qualification\":\"Bachlor in Engineering\"});"
   ]
  },
  {
   "cell_type": "code",
   "execution_count": 5,
   "metadata": {},
   "outputs": [
    {
     "name": "stdout",
     "output_type": "stream",
     "text": [
      "{'First_name': 'Abdul', 'Last_name': 'Rafay', 'Age': '20', 'City': 'Tando-Allanyar', 'Qualification': 'Bachlor in Engineering'}\n"
     ]
    }
   ],
   "source": [
    "print(d);"
   ]
  },
  {
   "cell_type": "code",
   "execution_count": 6,
   "metadata": {},
   "outputs": [],
   "source": [
    "del d[\"Qualification\"];"
   ]
  },
  {
   "cell_type": "code",
   "execution_count": 7,
   "metadata": {},
   "outputs": [
    {
     "name": "stdout",
     "output_type": "stream",
     "text": [
      "{'First_name': 'Abdul', 'Last_name': 'Rafay', 'Age': '20', 'City': 'Tando-Allanyar'}\n"
     ]
    }
   ],
   "source": [
    "print(d);"
   ]
  },
  {
   "cell_type": "code",
   "execution_count": null,
   "metadata": {},
   "outputs": [],
   "source": []
  }
 ],
 "metadata": {
  "kernelspec": {
   "display_name": "Python 3",
   "language": "python",
   "name": "python3"
  },
  "language_info": {
   "codemirror_mode": {
    "name": "ipython",
    "version": 3
   },
   "file_extension": ".py",
   "mimetype": "text/x-python",
   "name": "python",
   "nbconvert_exporter": "python",
   "pygments_lexer": "ipython3",
   "version": "3.7.3"
  }
 },
 "nbformat": 4,
 "nbformat_minor": 2
}
