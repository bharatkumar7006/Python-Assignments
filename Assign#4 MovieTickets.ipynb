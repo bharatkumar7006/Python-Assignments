{
 "cells": [
  {
   "cell_type": "code",
   "execution_count": 1,
   "metadata": {},
   "outputs": [
    {
     "name": "stdout",
     "output_type": "stream",
     "text": [
      "Enter the Age of Person:14\n",
      "Ticket charges are $15\n"
     ]
    }
   ],
   "source": [
    "n=int(input(\"Enter the Age of Person:\"));\n",
    "if(n<=3 and n!=0):\n",
    "    print(\"Ticket is free\");\n",
    "elif(n>3 and n<=12):\n",
    "    print(\"Ticket charges are $10\");\n",
    "elif(n>12):\n",
    "    print(\"Ticket charges are $15\");\n",
    "else:\n",
    "    print(\"Invalid\");"
   ]
  },
  {
   "cell_type": "code",
   "execution_count": null,
   "metadata": {},
   "outputs": [],
   "source": []
  }
 ],
 "metadata": {
  "kernelspec": {
   "display_name": "Python 3",
   "language": "python",
   "name": "python3"
  },
  "language_info": {
   "codemirror_mode": {
    "name": "ipython",
    "version": 3
   },
   "file_extension": ".py",
   "mimetype": "text/x-python",
   "name": "python",
   "nbconvert_exporter": "python",
   "pygments_lexer": "ipython3",
   "version": "3.7.3"
  }
 },
 "nbformat": 4,
 "nbformat_minor": 2
}
