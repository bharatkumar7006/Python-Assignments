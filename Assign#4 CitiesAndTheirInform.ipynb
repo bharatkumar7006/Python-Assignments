{
 "cells": [
  {
   "cell_type": "code",
   "execution_count": 6,
   "metadata": {},
   "outputs": [
    {
     "name": "stdout",
     "output_type": "stream",
     "text": [
      "{'Population': '14.91 million', 'Famous_Place': 'Sharine of Quid-e-azam', 'Country': 'Pakistan'}\n",
      "{'Population': '11.13 million', 'Famous_Place': 'Minar-e-Pakistan', 'Country': 'Pakistan'}\n",
      "{'Population': '1.001 million', 'Famous_Place': 'Ziarat', 'Country': 'Pakistan'}\n"
     ]
    }
   ],
   "source": [
    "information=[\n",
    "    {\"Population\":\"14.91 million\",\n",
    "     \"Famous_Place\":\"Sharine of Quid-e-azam\",\n",
    "     \"Country\":\"Pakistan\"\n",
    "    },{\"Population\":\"11.13 million\",\n",
    "       \"Famous_Place\":\"Minar-e-Pakistan\",\n",
    "     \"Country\":\"Pakistan\"\n",
    "    },{\"Population\":\"1.001 million\",\n",
    "       \"Famous_Place\":\"Ziarat\",\n",
    "       \"Country\":\"Pakistan\"\n",
    "    }             \n",
    "            ]\n",
    "\n",
    "cities={\"KARACHI\":information[0],\"LAHORE\":information[1],\"QUETTA\":information[2]}\n",
    "\n",
    "print(cities[\"KARACHI\"]);\n",
    "print(cities[\"LAHORE\"]);\n",
    "print(cities[\"QUETTA\"]);\n",
    "\n"
   ]
  },
  {
   "cell_type": "code",
   "execution_count": null,
   "metadata": {},
   "outputs": [],
   "source": []
  }
 ],
 "metadata": {
  "kernelspec": {
   "display_name": "Python 3",
   "language": "python",
   "name": "python3"
  },
  "language_info": {
   "codemirror_mode": {
    "name": "ipython",
    "version": 3
   },
   "file_extension": ".py",
   "mimetype": "text/x-python",
   "name": "python",
   "nbconvert_exporter": "python",
   "pygments_lexer": "ipython3",
   "version": "3.7.3"
  }
 },
 "nbformat": 4,
 "nbformat_minor": 2
}
